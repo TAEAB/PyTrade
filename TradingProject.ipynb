{
 "cells": [
  {
   "cell_type": "markdown",
   "metadata": {},
   "source": [
    "## Overview\n",
    "\n",
    "This is a project for automating trading. I am using Twelve Data API to access stock data. My algorithms will probably rely on technical analysis rather than fundamental analysis: data about the stocks movements rather than company releases, as I can automate this stuff easily."
   ]
  },
  {
   "cell_type": "markdown",
   "metadata": {},
   "source": [
    "## TwelveData API Tools\n",
    "\n",
    "[Here is the documentation page for the API.](https://twelvedata.com/docs)\n",
    "\n",
    "[Here is a tutorial for a library.](https://twelvedata.com/blog/get-high-quality-financial-data-directly-into-python)\n",
    "\n",
    "[Here is the library's GitHub repository.](https://github.com/twelvedata/twelvedata-python)\n",
    "\n",
    "\n",
    "I'm allowed up to 800 calls per day.\n",
    "\n",
    "\n",
    "## Setup\n",
    "\n",
    "The first steps in this project are setting up this venv with my desired libraries. I am installing: \n",
    "\n",
    ">`pip install twelvedata[matplotlib, plotly]`\n"
   ]
  },
  {
   "cell_type": "markdown",
   "metadata": {},
   "source": [
    "## First Steps\n",
    "\n",
    "I will begin by practicing fetching data from the API and displaying it. This will help me using tools to graphically represent data."
   ]
  },
  {
   "cell_type": "code",
   "execution_count": 4,
   "metadata": {},
   "outputs": [],
   "source": [
    "from twelvedata import TDClient\n",
    "import json\n",
    "import datetime\n",
    "\n",
    "\n",
    "td = TDClient(apikey=\"a2edbe9124ce46adba66a0b007253f80\")\n",
    "\n",
    "# Construct the necessary time series\n",
    "ts = td.time_series(\n",
    "    symbol=\"AAPL\",\n",
    "    interval=\"1min\",\n",
    "    timezone=\"America/New_York\",\n",
    "    outputsize=1\n",
    ").as_json()\n",
    "\n",
    "# with open(\"results.txt\", \"w\") as f: \n",
    "#     f.write(ts.to_string())\n",
    "\n",
    "with open(\"results.txt\", \"w\") as f: \n",
    "    f.write(json.dumps(ts, indent=4))\n"
   ]
  },
  {
   "cell_type": "markdown",
   "metadata": {},
   "source": [
    "## First Algorithm\n",
    "\n",
    "This algorithm will buy some AAPL stock if the price is below a certain number. \n",
    "\n",
    "First, I will create the sandbox that keeps track of my possesions. I will have the API connection to the external world as a given. Second, I will work on using the API to interact with the world to get the data I want.\n",
    "\n",
    "As I go forward, I will iterate over the first step to improve the algorithm. \n",
    "\n",
    "Stipulations:\n",
    "* 2023-04-04 8:11 AM: The API returns a range of prices of an asset over a time interval. I will take the current price to be the open."
   ]
  },
  {
   "cell_type": "code",
   "execution_count": 17,
   "metadata": {},
   "outputs": [],
   "source": [
    "\"\"\"\n",
    "This is the basic structure for the trading algorithm. This creates the environment that manages possessions and transactions. That occurs client-side. \n",
    "\n",
    "\n",
    "The API is contained in the function that fetches data. Everything else occus on the machine.\n",
    "\"\"\"\n",
    "from twelvedata import TDClient\n",
    "import json\n",
    "\n",
    "td = TDClient(apikey=\"a2edbe9124ce46adba66a0b007253f80\")\n",
    "\n",
    "# Bridge to the stock market.\n",
    "def fetch_stock_data(stock_ticker, interval, size):\n",
    "    \"\"\"\n",
    "    Gets the necessary data from the API as a PANDAS dataframe.\n",
    "\n",
    "    Argument:\n",
    "        stock_ticker (string): ticker \n",
    "        interval (string): time frame (1min, 5min, 15min, 30min, 45min, 1h, 2h, 4h, 8h, 1day, 1week, 1month)\n",
    "        size (int): the number of data points to retrieve\n",
    "\n",
    "    Return (dict):\n",
    "        price per share at time of call\n",
    "    \"\"\"\n",
    "    # Construct the time series\n",
    "    ts = td.time_series(\n",
    "        symbol=stock_ticker,\n",
    "        interval=interval,\n",
    "        timezone=\"America/New_York\",\n",
    "        outputsize=size\n",
    "    ).as_pandas()\n",
    "    return ts\n",
    "\n"
   ]
  },
  {
   "cell_type": "markdown",
   "metadata": {},
   "source": [
    "### This will define the decision algorithms"
   ]
  },
  {
   "cell_type": "code",
   "execution_count": 18,
   "metadata": {},
   "outputs": [],
   "source": [
    "# Buy/Sell if stock is increasing / decreasing in value \n",
    "def decide_buy(stock_data):\n",
    "    \"\"\"\n",
    "    Decide whether to buy a stock\n",
    "    Buys if the 50-day moving average is greater than the 100-day moving average\n",
    "\n",
    "    Argument: \n",
    "        stock_data (pandas df)\n",
    "\n",
    "    Return:\n",
    "        choice (boolean)\n",
    "    \"\"\"\n",
    "    long = stock_data['close'].copy().ewm(span=100).mean()\n",
    "    short = stock_data['close'].copy().ewm(span=50).mean()\n",
    "    return short[0] > long[0] and abs(short - long) < 1\n",
    "\n",
    "def decide_sell(stock_data):\n",
    "    \"\"\"\n",
    "    Decide whether to sell a stock\n",
    "\n",
    "    Argument: \n",
    "        stock_data (pandas df)\n",
    "\n",
    "    Return:\n",
    "        choice (boolean)\n",
    "    \"\"\"\n",
    "    long = stock_data['close'].copy().ewm(span=100).mean()\n",
    "    short = stock_data['close'].copy().ewm(span=50).mean()\n",
    "    return short[0] < long[0] and abs(short - long) < 1\n",
    "\n"
   ]
  },
  {
   "cell_type": "code",
   "execution_count": 73,
   "metadata": {},
   "outputs": [
    {
     "name": "stdout",
     "output_type": "stream",
     "text": [
      "100\n",
      "datetime\n",
      "2023-04-26    181.5906\n",
      "Name: close, dtype: float64\n",
      "--\n",
      "datetime\n",
      "2023-07-10    184.465701\n",
      "2023-07-07    184.719701\n",
      "2023-07-06    185.055701\n",
      "2023-07-05    185.367501\n",
      "2023-07-03    185.732501\n",
      "2023-06-30    186.085901\n",
      "2023-06-29    186.290501\n",
      "2023-06-28    186.511901\n",
      "2023-06-27    186.721901\n",
      "2023-06-26    186.769101\n",
      "2023-06-23    186.708701\n",
      "2023-06-22    186.659501\n",
      "2023-06-21    186.581301\n",
      "2023-06-20    186.528501\n",
      "2023-06-16    186.544501\n",
      "2023-06-15    186.660901\n",
      "2023-06-14    186.767701\n",
      "2023-06-13    186.906301\n",
      "2023-06-12    186.959700\n",
      "2023-06-09    187.034301\n",
      "2023-06-08    187.128901\n",
      "2023-06-07    187.195501\n",
      "2023-06-06    187.299701\n",
      "2023-06-05    187.359901\n",
      "2023-06-02    187.429901\n",
      "2023-06-01    187.442501\n",
      "2023-05-31    187.431701\n",
      "2023-05-30    187.418301\n",
      "2023-05-26    187.363101\n",
      "2023-05-25    187.226901\n",
      "2023-05-24    187.086701\n",
      "2023-05-23    186.878100\n",
      "2023-05-22    186.538700\n",
      "2023-05-19    186.190300\n",
      "2023-05-18    185.779200\n",
      "2023-05-17    185.304000\n",
      "2023-05-16    184.828801\n",
      "2023-05-15    184.405801\n",
      "2023-05-12    183.967201\n",
      "2023-05-11    183.569801\n",
      "2023-05-10    183.185901\n",
      "2023-05-09    182.782501\n",
      "2023-05-08    182.389901\n",
      "2023-05-05    181.959301\n",
      "2023-05-04    181.400501\n",
      "2023-05-03    180.869700\n",
      "2023-05-02    180.426700\n",
      "2023-05-01    180.007700\n",
      "2023-04-28    179.605900\n",
      "2023-04-27    179.212500\n",
      "2023-04-26    178.715500\n",
      "Name: close, dtype: float64\n"
     ]
    }
   ],
   "source": [
    "import pandas as pd\n",
    "\n",
    "stock_data = fetch_stock_data(\"AAPL\", \"1day\", 100)\n",
    "\n",
    "print(len(stock_data))\n",
    "\n",
    "long = stock_data['close'].copy().rolling(100).mean()\n",
    "short = stock_data['close'].copy().rolling(50).mean()\n",
    "\n",
    "long = long[long.notnull()]\n",
    "short = short[short.notnull()]\n",
    "\n",
    "print(long.iloc[0])\n",
    "print(\"--\")\n",
    "print(short.iloc[0])"
   ]
  },
  {
   "cell_type": "code",
   "execution_count": 75,
   "metadata": {},
   "outputs": [
    {
     "data": {
      "image/png": "[encoded data removed]",
      "text/plain": [
       "<Figure size 640x480 with 1 Axes>"
      ]
     },
     "metadata": {},
     "output_type": "display_data"
    }
   ],
   "source": [
    "import matplotlib.pyplot as plt\n",
    "\n",
    "long.plot()\n",
    "short.plot()\n",
    "plt.show()"
   ]
  }
 ],
 "metadata": {
  "kernelspec": {
   "display_name": "Python 3 (ipykernel)",
   "language": "python",
   "name": "python3"
  },
  "language_info": {
   "codemirror_mode": {
    "name": "ipython",
    "version": 3
   },
   "file_extension": ".py",
   "mimetype": "text/x-python",
   "name": "python",
   "nbconvert_exporter": "python",
   "pygments_lexer": "ipython3",
   "version": "3.11.2"
  },
  "vscode": {
   "interpreter": {
    "hash": "8b2430c1832af52ddbf24eb289ab319810b6e13b773949fccad48477923f0db3"
   }
  }
 },
 "nbformat": 4,
 "nbformat_minor": 2
}
